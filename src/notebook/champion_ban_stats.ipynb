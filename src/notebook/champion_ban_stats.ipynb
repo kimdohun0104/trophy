{
 "cells": [
  {
   "cell_type": "code",
   "execution_count": 28,
   "metadata": {
    "collapsed": true,
    "ExecuteTime": {
     "end_time": "2023-08-18T15:05:22.554345Z",
     "start_time": "2023-08-18T15:05:21.913932Z"
    }
   },
   "outputs": [
    {
     "data": {
      "text/html": "   <div id=\"WZzGZz\"></div>\n   <script type=\"text/javascript\" data-lets-plot-script=\"library\">\n       if(!window.letsPlotCallQueue) {\n           window.letsPlotCallQueue = [];\n       }; \n       window.letsPlotCall = function(f) {\n           window.letsPlotCallQueue.push(f);\n       };\n       (function() {\n           var script = document.createElement(\"script\");\n           script.type = \"text/javascript\";\n           script.src = \"https://cdn.jsdelivr.net/gh/JetBrains/lets-plot@v3.2.0/js-package/distr/lets-plot.min.js\";\n           script.onload = function() {\n               window.letsPlotCall = function(f) {f();};\n               window.letsPlotCallQueue.forEach(function(f) {f();});\n               window.letsPlotCallQueue = [];\n               \n               \n           };\n           script.onerror = function(event) {\n               window.letsPlotCall = function(f) {};\n               window.letsPlotCallQueue = [];\n               var div = document.createElement(\"div\");\n               div.style.color = 'darkred';\n               div.textContent = 'Error loading Lets-Plot JS';\n               document.getElementById(\"WZzGZz\").appendChild(div);\n           };\n           var e = document.getElementById(\"WZzGZz\");\n           e.appendChild(script);\n       })();\n   </script>"
     },
     "metadata": {},
     "output_type": "display_data"
    }
   ],
   "source": [
    "%use dataframe, lets-plot"
   ]
  },
  {
   "cell_type": "code",
   "execution_count": 26,
   "outputs": [],
   "source": [
    "@DataSchema\n",
    "interface ChampionBanStats {\n",
    "    @ColumnName(\"CHAMPION\")\n",
    "    val champion: String?\n",
    "    \n",
    "    @ColumnName(\"BAN %\")\n",
    "    val banRate: String?\n",
    "    \n",
    "    @ColumnName(\"TOTAL\")\n",
    "    val total: Int?\n",
    "    \n",
    "    @ColumnName(\"BLUE\")\n",
    "    val blue: Int?\n",
    "    \n",
    "    @ColumnName(\"RED\")\n",
    "    val red: Int?\n",
    "    \n",
    "    @ColumnName(\"P1 TOTAL\")\n",
    "    val totalPick1: Int?\n",
    "    \n",
    "    @ColumnName(\"P1 BLUE\")\n",
    "    val bluePick1: Int?\n",
    "    \n",
    "    @ColumnName(\"P1 RED\")\n",
    "    val redPick1: Int?\n",
    "    \n",
    "    @ColumnName(\"P2 TOTAL\")\n",
    "    val totalPick2: Int?\n",
    "    \n",
    "    @ColumnName(\"P2 BLUE\")\n",
    "    val bluePick2: Int?\n",
    "    \n",
    "    @ColumnName(\"P2 RED\")\n",
    "    val redPick2: Int?\n",
    "}"
   ],
   "metadata": {
    "collapsed": false,
    "ExecuteTime": {
     "end_time": "2023-08-18T15:02:21.522172Z",
     "start_time": "2023-08-18T15:02:21.322439Z"
    }
   }
  },
  {
   "cell_type": "code",
   "execution_count": 68,
   "outputs": [
    {
     "data": {
      "text/html": "   <div id=\"JAAbXo\"></div>\n   <script type=\"text/javascript\" data-lets-plot-script=\"plot\">\n       (function() {\n           var plotSpec={\n\"layout\":{\n\"name\":\"grid\",\n\"ncol\":2,\n\"nrow\":1,\n\"fit\":true,\n\"align\":false\n},\n\"figures\":[{\n\"ggtitle\":{\n\"text\":\"Blue 1픽 Top 5\"\n},\n\"mapping\":{\n},\n\"data\":{\n\"name\":[\"Poppy\",\"Nocturne\",\"Aatrox\",\"Sejuani\",\"Tristana\"],\n\"value\":[11.0,6.0,5.0,5.0,4.0]\n},\n\"ggsize\":{\n\"width\":600.0,\n\"height\":250.0\n},\n\"kind\":\"plot\",\n\"scales\":[{\n\"aesthetic\":\"fill\",\n\"scale_mapper_kind\":\"color_brewer\",\n\"palette\":\"Set1\"\n}],\n\"layers\":[{\n\"hole\":0.0,\n\"mapping\":{\n\"slice\":\"value\",\n\"fill\":\"name\"\n},\n\"stat\":\"identity\",\n\"size\":30.0,\n\"stroke_color\":\"white\",\n\"position\":\"identity\",\n\"geom\":\"pie\",\n\"stroke\":1.0,\n\"labels\":{\n\"lines\":[\"@name\"],\n\"annotation_size\":13\n},\n\"data\":{\n}\n}],\n\"theme\":{\n\"legend_position\":\"none\",\n\"axis\":{\n\"blank\":true\n},\n\"line\":{\n\"blank\":true\n}\n}\n},{\n\"ggtitle\":{\n\"text\":\"Red 1픽 Top 5\"\n},\n\"mapping\":{\n},\n\"data\":{\n\"name\":[\"Tristana\",\"Kaisa\",\"LeBlanc\",\"Neeko\",\"Jax\"],\n\"value\":[11.0,7.0,6.0,5.0,4.0]\n},\n\"ggsize\":{\n\"width\":600.0,\n\"height\":250.0\n},\n\"kind\":\"plot\",\n\"scales\":[{\n\"aesthetic\":\"fill\",\n\"scale_mapper_kind\":\"color_brewer\",\n\"palette\":\"Set1\"\n}],\n\"layers\":[{\n\"hole\":0.0,\n\"mapping\":{\n\"slice\":\"value\",\n\"fill\":\"name\"\n},\n\"stat\":\"identity\",\n\"size\":30.0,\n\"stroke_color\":\"white\",\n\"position\":\"identity\",\n\"geom\":\"pie\",\n\"stroke\":1.0,\n\"labels\":{\n\"lines\":[\"@name\"],\n\"annotation_size\":13\n},\n\"data\":{\n}\n}],\n\"theme\":{\n\"legend_position\":\"none\",\n\"axis\":{\n\"blank\":true\n},\n\"line\":{\n\"blank\":true\n}\n}\n}],\n\"kind\":\"subplots\"\n};\n           var plotContainer = document.getElementById(\"JAAbXo\");\n           window.letsPlotCall(function() {{\n               LetsPlot.buildPlotFromProcessedSpecs(plotSpec, -1, -1, plotContainer);\n           }});\n       })();    \n   </script>"
     },
     "execution_count": 68,
     "metadata": {},
     "output_type": "execute_result"
    }
   ],
   "source": [
    "import org.jetbrains.letsPlot.intern.Plot\n",
    "\n",
    "val banStatsDataFrame = DataFrame.readCSV(\"resources/LCK_summer_playoffs_2023_13.14_champion_ban_stats.csv\").cast<ChampionBanStats>()\n",
    "\n",
    "fun List<Pair<String?, Int?>>.toChartData() =\n",
    "    sortedByDescending { it.second }\n",
    "        .take(5)\n",
    "        .toMap()\n",
    "        .let {\n",
    "            mapOf(\n",
    "                \"name\" to it.keys,\n",
    "                \"value\" to it.values\n",
    "            )\n",
    "        }\n",
    "\n",
    "val blueChartData = banStatsDataFrame\n",
    "    .map { champion to bluePick1 }\n",
    "    .toChartData()\n",
    "\n",
    "val redChartData = banStatsDataFrame\n",
    "    .map { champion to redPick1 }\n",
    "    .toChartData()\n",
    "\n",
    "fun createPieChart(data: Map<String, Collection<Any?>>, title: String): Plot {\n",
    "    val (w, h) = 600 to 250\n",
    "    val blankTheme = theme(line = elementBlank(), axis = elementBlank())\n",
    "    return letsPlot(data) +\n",
    "            ggtitle(title) + \n",
    "            ggsize(w, h) +\n",
    "            geomPie(\n",
    "                size = 30,\n",
    "                stroke = 1,\n",
    "                strokeColor = \"white\",\n",
    "                hole = 0,\n",
    "                labels = layerLabels().line(\"@name\").size(13),\n",
    "                stat = Stat.identity,\n",
    "            ) { slice = \"value\"; fill = \"name\" } +\n",
    "            theme().legendPositionNone() +\n",
    "            blankTheme +\n",
    "            scaleFillBrewer(palette = \"Set1\")\n",
    "}\n",
    "\n",
    "val blueChart = createPieChart(blueChartData, \"Blue 1픽 Top 5\")\n",
    "val redChart = createPieChart(redChartData, \"Red 1픽 Top 5\")\n",
    "\n",
    "gggrid(\n",
    "    plots = listOf(\n",
    "        blueChart,\n",
    "        redChart\n",
    "    )\n",
    ")\n"
   ],
   "metadata": {
    "collapsed": false,
    "ExecuteTime": {
     "end_time": "2023-08-18T15:36:59.214696Z",
     "start_time": "2023-08-18T15:36:58.945913Z"
    }
   }
  },
  {
   "cell_type": "code",
   "execution_count": null,
   "outputs": [],
   "source": [],
   "metadata": {
    "collapsed": false
   }
  }
 ],
 "metadata": {
  "kernelspec": {
   "display_name": "Kotlin",
   "language": "kotlin",
   "name": "kotlin"
  },
  "language_info": {
   "name": "kotlin",
   "version": "1.8.20",
   "mimetype": "text/x-kotlin",
   "file_extension": ".kt",
   "pygments_lexer": "kotlin",
   "codemirror_mode": "text/x-kotlin",
   "nbconvert_exporter": ""
  },
  "ktnbPluginMetadata": {
   "projectDependencies": true
  }
 },
 "nbformat": 4,
 "nbformat_minor": 0
}
