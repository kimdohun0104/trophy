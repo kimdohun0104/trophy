{
 "cells": [
  {
   "cell_type": "code",
   "execution_count": 2,
   "metadata": {
    "collapsed": true,
    "ExecuteTime": {
     "end_time": "2023-08-19T12:25:23.878861Z",
     "start_time": "2023-08-19T12:25:01.924466Z"
    }
   },
   "outputs": [
    {
     "data": {
      "text/html": "   <div id=\"RqdjYP\"></div>\n   <script type=\"text/javascript\" data-lets-plot-script=\"library\">\n       if(!window.letsPlotCallQueue) {\n           window.letsPlotCallQueue = [];\n       }; \n       window.letsPlotCall = function(f) {\n           window.letsPlotCallQueue.push(f);\n       };\n       (function() {\n           var script = document.createElement(\"script\");\n           script.type = \"text/javascript\";\n           script.src = \"https://cdn.jsdelivr.net/gh/JetBrains/lets-plot@v3.2.0/js-package/distr/lets-plot.min.js\";\n           script.onload = function() {\n               window.letsPlotCall = function(f) {f();};\n               window.letsPlotCallQueue.forEach(function(f) {f();});\n               window.letsPlotCallQueue = [];\n               \n               \n           };\n           script.onerror = function(event) {\n               window.letsPlotCall = function(f) {};\n               window.letsPlotCallQueue = [];\n               var div = document.createElement(\"div\");\n               div.style.color = 'darkred';\n               div.textContent = 'Error loading Lets-Plot JS';\n               document.getElementById(\"RqdjYP\").appendChild(div);\n           };\n           var e = document.getElementById(\"RqdjYP\");\n           e.appendChild(script);\n       })();\n   </script>"
     },
     "metadata": {},
     "output_type": "display_data"
    }
   ],
   "source": [
    "%use dataframe, lets-plot"
   ]
  },
  {
   "cell_type": "code",
   "execution_count": 3,
   "outputs": [],
   "source": [
    "@DataSchema\n",
    "interface Player {\n",
    "\n",
    "    @ColumnName(\"Player\")\n",
    "    val player: String?\n",
    "\n",
    "    @ColumnName(\"KDA\")\n",
    "    val kda: Double?\n",
    "\n",
    "    @ColumnName(\"CSM\")\n",
    "    val csm: Double?\n",
    "\n",
    "    @ColumnName(\"KP%\")\n",
    "    val killParticipationRate: String?\n",
    "\n",
    "    @ColumnName(\"DPM\")\n",
    "    val dpm: Int\n",
    "}"
   ],
   "metadata": {
    "collapsed": false,
    "ExecuteTime": {
     "end_time": "2023-08-19T12:25:24.134362Z",
     "start_time": "2023-08-19T12:25:23.862740Z"
    }
   }
  },
  {
   "cell_type": "markdown",
   "source": [],
   "metadata": {
    "collapsed": false
   }
  },
  {
   "cell_type": "code",
   "execution_count": 15,
   "outputs": [
    {
     "data": {
      "text/html": "   <div id=\"gEbjyM\"></div>\n   <script type=\"text/javascript\" data-lets-plot-script=\"plot\">\n       (function() {\n           var plotSpec={\n\"layout\":{\n\"name\":\"grid\",\n\"ncol\":3,\n\"nrow\":1,\n\"fit\":true,\n\"align\":false\n},\n\"figures\":[{\n\"layers\":[{\n\"mapping\":{\n\"x\":\"player\",\n\"y\":\"kda\"\n},\n\"stat\":\"identity\",\n\"position\":\"stack\",\n\"geom\":\"bar\",\n\"data\":{\n}\n}],\n\"mapping\":{\n},\n\"data\":{\n\"kda\":[3.4,7.0,7.2,3.9],\n\"player\":[\"Faker\",\"Chovy\",\"Bdd\",\"LCK 평균\"]\n},\n\"kind\":\"plot\",\n\"scales\":[]\n},{\n\"layers\":[{\n\"mapping\":{\n\"x\":\"player\",\n\"y\":\"csm\"\n},\n\"stat\":\"identity\",\n\"position\":\"stack\",\n\"geom\":\"bar\",\n\"data\":{\n}\n}],\n\"mapping\":{\n},\n\"data\":{\n\"csm\":[8.8,9.5,8.8,8.913333333333334],\n\"player\":[\"Faker\",\"Chovy\",\"Bdd\",\"LCK 평균\"]\n},\n\"kind\":\"plot\",\n\"scales\":[]\n},{\n\"layers\":[{\n\"mapping\":{\n\"x\":\"player\",\n\"y\":\"kpr\"\n},\n\"stat\":\"identity\",\n\"position\":\"stack\",\n\"geom\":\"bar\",\n\"data\":{\n}\n}],\n\"mapping\":{\n},\n\"data\":{\n\"kpr\":[63.0,71.0,68.0,65.73333333333333],\n\"player\":[\"Faker\",\"Chovy\",\"Bdd\",\"LCK 평균\"]\n},\n\"kind\":\"plot\",\n\"scales\":[]\n}],\n\"kind\":\"subplots\"\n};\n           var plotContainer = document.getElementById(\"gEbjyM\");\n           window.letsPlotCall(function() {{\n               LetsPlot.buildPlotFromProcessedSpecs(plotSpec, -1, -1, plotContainer);\n           }});\n       })();    \n   </script>"
     },
     "execution_count": 15,
     "metadata": {},
     "output_type": "execute_result"
    }
   ],
   "source": [
    "import org.jetbrains.letsPlot.intern.Plot\n",
    "\n",
    "val midLinePlayersDataFrame = DataFrame.readCSV(\"resources/LCK_summer_2023_mid_line_players.csv\").cast<Player>()\n",
    "\n",
    "val comparePlayers = listOf(\"Faker\", \"Chovy\", \"Bdd\")\n",
    "val comparePlayersInfo = comparePlayers.map { player ->\n",
    "    midLinePlayersDataFrame.first { it.player?.equals(player, ignoreCase = true) == true }\n",
    "}\n",
    "\n",
    "val averageKda = midLinePlayersDataFrame.map { kda ?: 0.0 }.average()\n",
    "val averageCsm = midLinePlayersDataFrame.map { csm ?: 0.0 }.average()\n",
    "val averageKpr = midLinePlayersDataFrame.map { killParticipationRate?.replace(\"%\", \"\")?.toDoubleOrNull()?.roundToInt() ?: 0 }.average()\n",
    "\n",
    "val kdaPlotData = mapOf(\n",
    "    \"player\" to comparePlayers + \"LCK 평균\",\n",
    "    \"kda\" to comparePlayersInfo.map { it.kda } + averageKda\n",
    ")\n",
    "val csmPlotData = mapOf(\n",
    "    \"player\" to comparePlayers + \"LCK 평균\",\n",
    "    \"csm\" to comparePlayersInfo.map { it.csm } + averageCsm\n",
    ")\n",
    "val kprPlotData = mapOf(\n",
    "    \"player\" to comparePlayers + \"LCK 평균\",\n",
    "    \"kpr\" to comparePlayersInfo.map { it.killParticipationRate?.replace(\"%\", \"\")?.toDoubleOrNull()?.roundToInt() ?: 0 } + averageKpr\n",
    ")\n",
    "\n",
    "fun createPlot(data: Map<*, *>, y: String): Plot {\n",
    "    return letsPlot(data) +\n",
    "            geomBar(stat = Stat.identity) { x = \"player\"; this.y = y }\n",
    "}\n",
    "\n",
    "gggrid(\n",
    "    plots = listOf(\n",
    "        createPlot(kdaPlotData, \"kda\"),\n",
    "        createPlot(csmPlotData, \"csm\"),\n",
    "        createPlot(kprPlotData, \"kpr\")\n",
    "    )\n",
    ")\n"
   ],
   "metadata": {
    "collapsed": false,
    "ExecuteTime": {
     "end_time": "2023-08-19T12:28:59.057505Z",
     "start_time": "2023-08-19T12:28:58.790218Z"
    }
   }
  },
  {
   "cell_type": "code",
   "execution_count": 5,
   "outputs": [],
   "source": [],
   "metadata": {
    "collapsed": false,
    "ExecuteTime": {
     "end_time": "2023-08-19T12:25:25.332151Z",
     "start_time": "2023-08-19T12:25:25.323726Z"
    }
   }
  }
 ],
 "metadata": {
  "kernelspec": {
   "display_name": "Kotlin",
   "language": "kotlin",
   "name": "kotlin"
  },
  "language_info": {
   "name": "kotlin",
   "version": "1.8.20",
   "mimetype": "text/x-kotlin",
   "file_extension": ".kt",
   "pygments_lexer": "kotlin",
   "codemirror_mode": "text/x-kotlin",
   "nbconvert_exporter": ""
  },
  "ktnbPluginMetadata": {
   "projectDependencies": true
  }
 },
 "nbformat": 4,
 "nbformat_minor": 0
}
